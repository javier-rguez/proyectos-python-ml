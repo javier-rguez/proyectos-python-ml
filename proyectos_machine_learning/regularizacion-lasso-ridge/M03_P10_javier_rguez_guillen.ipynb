{
 "cells": [
  {
   "cell_type": "markdown",
   "id": "ee5a22a7-cdcd-49b7-b295-da036367976b",
   "metadata": {},
   "source": [
    "## Módulo 3 Unidad 3: Práctica 10 - Regresión Lasso y Ridge."
   ]
  },
  {
   "cell_type": "markdown",
   "id": "92c8f29a-ab93-4216-821f-d3bb76935d24",
   "metadata": {},
   "source": [
    "### 1. Descripción del conjunto de datos.\n",
    "En primer lugar vamos a cargar los datos de nuestro archivo company.csv en un dataframe de Pandas para proceder a su análisis.\n",
    "\n"
   ]
  },
  {
   "cell_type": "code",
   "execution_count": 3,
   "id": "e15e86ad-cfc3-4a3c-9f18-7f766c2e0557",
   "metadata": {},
   "outputs": [],
   "source": [
    "import pandas as pd\n",
    "\n",
    "df = pd.read_csv('company.csv', sep=',') # creamos dataframe a partir de la lectura del archivo"
   ]
  },
  {
   "cell_type": "code",
   "execution_count": 5,
   "id": "4ba240d0-ff48-4363-8db6-05d899a8aa7b",
   "metadata": {},
   "outputs": [
    {
     "data": {
      "text/html": [
       "<div>\n",
       "<style scoped>\n",
       "    .dataframe tbody tr th:only-of-type {\n",
       "        vertical-align: middle;\n",
       "    }\n",
       "\n",
       "    .dataframe tbody tr th {\n",
       "        vertical-align: top;\n",
       "    }\n",
       "\n",
       "    .dataframe thead th {\n",
       "        text-align: right;\n",
       "    }\n",
       "</style>\n",
       "<table border=\"1\" class=\"dataframe\">\n",
       "  <thead>\n",
       "    <tr style=\"text-align: right;\">\n",
       "      <th></th>\n",
       "      <th>TV</th>\n",
       "      <th>Radio</th>\n",
       "      <th>Newspaper</th>\n",
       "      <th>Sales</th>\n",
       "    </tr>\n",
       "  </thead>\n",
       "  <tbody>\n",
       "    <tr>\n",
       "      <th>0</th>\n",
       "      <td>230.1</td>\n",
       "      <td>37.8</td>\n",
       "      <td>69.2</td>\n",
       "      <td>22.1</td>\n",
       "    </tr>\n",
       "    <tr>\n",
       "      <th>1</th>\n",
       "      <td>44.5</td>\n",
       "      <td>39.3</td>\n",
       "      <td>45.1</td>\n",
       "      <td>10.4</td>\n",
       "    </tr>\n",
       "    <tr>\n",
       "      <th>2</th>\n",
       "      <td>17.2</td>\n",
       "      <td>45.9</td>\n",
       "      <td>69.3</td>\n",
       "      <td>12.0</td>\n",
       "    </tr>\n",
       "    <tr>\n",
       "      <th>3</th>\n",
       "      <td>151.5</td>\n",
       "      <td>41.3</td>\n",
       "      <td>58.5</td>\n",
       "      <td>16.5</td>\n",
       "    </tr>\n",
       "    <tr>\n",
       "      <th>4</th>\n",
       "      <td>180.8</td>\n",
       "      <td>10.8</td>\n",
       "      <td>58.4</td>\n",
       "      <td>17.9</td>\n",
       "    </tr>\n",
       "  </tbody>\n",
       "</table>\n",
       "</div>"
      ],
      "text/plain": [
       "      TV  Radio  Newspaper  Sales\n",
       "0  230.1   37.8       69.2   22.1\n",
       "1   44.5   39.3       45.1   10.4\n",
       "2   17.2   45.9       69.3   12.0\n",
       "3  151.5   41.3       58.5   16.5\n",
       "4  180.8   10.8       58.4   17.9"
      ]
     },
     "execution_count": 5,
     "metadata": {},
     "output_type": "execute_result"
    }
   ],
   "source": [
    "df.head()"
   ]
  },
  {
   "cell_type": "code",
   "execution_count": 7,
   "id": "5d8055c2-b645-4405-9a8d-e80f83365a42",
   "metadata": {},
   "outputs": [
    {
     "data": {
      "text/plain": [
       "(200, 4)"
      ]
     },
     "execution_count": 7,
     "metadata": {},
     "output_type": "execute_result"
    }
   ],
   "source": [
    "df.shape # vemos la forma de nuestro dataframe (filas o registros y columnas o atributos)"
   ]
  },
  {
   "cell_type": "code",
   "execution_count": 9,
   "id": "33fa5cff-b46b-4ce8-953c-df32195c8ab6",
   "metadata": {},
   "outputs": [
    {
     "name": "stdout",
     "output_type": "stream",
     "text": [
      "<class 'pandas.core.frame.DataFrame'>\n",
      "RangeIndex: 200 entries, 0 to 199\n",
      "Data columns (total 4 columns):\n",
      " #   Column     Non-Null Count  Dtype  \n",
      "---  ------     --------------  -----  \n",
      " 0   TV         200 non-null    float64\n",
      " 1   Radio      200 non-null    float64\n",
      " 2   Newspaper  200 non-null    float64\n",
      " 3   Sales      200 non-null    float64\n",
      "dtypes: float64(4)\n",
      "memory usage: 6.4 KB\n"
     ]
    }
   ],
   "source": [
    "df.info() # los tipos de datos de nuestro dataframe son los siguientes"
   ]
  },
  {
   "cell_type": "code",
   "execution_count": 11,
   "id": "f25a9ae0-ff77-4d62-a80e-ae766bf45976",
   "metadata": {},
   "outputs": [
    {
     "data": {
      "text/plain": [
       "TV           190\n",
       "Radio        167\n",
       "Newspaper    172\n",
       "Sales        121\n",
       "dtype: int64"
      ]
     },
     "execution_count": 11,
     "metadata": {},
     "output_type": "execute_result"
    }
   ],
   "source": [
    "df.nunique() # análisis de valores únicos incluyendo nulos"
   ]
  },
  {
   "cell_type": "code",
   "execution_count": 13,
   "id": "c8d517e2-6c9a-4da4-886c-9e7be7e70261",
   "metadata": {
    "scrolled": true
   },
   "outputs": [
    {
     "data": {
      "text/html": [
       "<div>\n",
       "<style scoped>\n",
       "    .dataframe tbody tr th:only-of-type {\n",
       "        vertical-align: middle;\n",
       "    }\n",
       "\n",
       "    .dataframe tbody tr th {\n",
       "        vertical-align: top;\n",
       "    }\n",
       "\n",
       "    .dataframe thead th {\n",
       "        text-align: right;\n",
       "    }\n",
       "</style>\n",
       "<table border=\"1\" class=\"dataframe\">\n",
       "  <thead>\n",
       "    <tr style=\"text-align: right;\">\n",
       "      <th></th>\n",
       "      <th>TV</th>\n",
       "      <th>Radio</th>\n",
       "      <th>Newspaper</th>\n",
       "      <th>Sales</th>\n",
       "    </tr>\n",
       "  </thead>\n",
       "  <tbody>\n",
       "    <tr>\n",
       "      <th>count</th>\n",
       "      <td>200.000000</td>\n",
       "      <td>200.000000</td>\n",
       "      <td>200.000000</td>\n",
       "      <td>200.000000</td>\n",
       "    </tr>\n",
       "    <tr>\n",
       "      <th>mean</th>\n",
       "      <td>147.042500</td>\n",
       "      <td>23.264000</td>\n",
       "      <td>30.554000</td>\n",
       "      <td>15.130500</td>\n",
       "    </tr>\n",
       "    <tr>\n",
       "      <th>std</th>\n",
       "      <td>85.854236</td>\n",
       "      <td>14.846809</td>\n",
       "      <td>21.778621</td>\n",
       "      <td>5.283892</td>\n",
       "    </tr>\n",
       "    <tr>\n",
       "      <th>min</th>\n",
       "      <td>0.700000</td>\n",
       "      <td>0.000000</td>\n",
       "      <td>0.300000</td>\n",
       "      <td>1.600000</td>\n",
       "    </tr>\n",
       "    <tr>\n",
       "      <th>25%</th>\n",
       "      <td>74.375000</td>\n",
       "      <td>9.975000</td>\n",
       "      <td>12.750000</td>\n",
       "      <td>11.000000</td>\n",
       "    </tr>\n",
       "    <tr>\n",
       "      <th>50%</th>\n",
       "      <td>149.750000</td>\n",
       "      <td>22.900000</td>\n",
       "      <td>25.750000</td>\n",
       "      <td>16.000000</td>\n",
       "    </tr>\n",
       "    <tr>\n",
       "      <th>75%</th>\n",
       "      <td>218.825000</td>\n",
       "      <td>36.525000</td>\n",
       "      <td>45.100000</td>\n",
       "      <td>19.050000</td>\n",
       "    </tr>\n",
       "    <tr>\n",
       "      <th>max</th>\n",
       "      <td>296.400000</td>\n",
       "      <td>49.600000</td>\n",
       "      <td>114.000000</td>\n",
       "      <td>27.000000</td>\n",
       "    </tr>\n",
       "  </tbody>\n",
       "</table>\n",
       "</div>"
      ],
      "text/plain": [
       "               TV       Radio   Newspaper       Sales\n",
       "count  200.000000  200.000000  200.000000  200.000000\n",
       "mean   147.042500   23.264000   30.554000   15.130500\n",
       "std     85.854236   14.846809   21.778621    5.283892\n",
       "min      0.700000    0.000000    0.300000    1.600000\n",
       "25%     74.375000    9.975000   12.750000   11.000000\n",
       "50%    149.750000   22.900000   25.750000   16.000000\n",
       "75%    218.825000   36.525000   45.100000   19.050000\n",
       "max    296.400000   49.600000  114.000000   27.000000"
      ]
     },
     "execution_count": 13,
     "metadata": {},
     "output_type": "execute_result"
    }
   ],
   "source": [
    "df.describe() # Mostramos las variables numéricas"
   ]
  },
  {
   "cell_type": "markdown",
   "id": "7639dbc0-912f-437a-93bf-a83fda30045f",
   "metadata": {},
   "source": [
    "**Conclusiones previas:**\n",
    "\n",
    "Se trata de un dataset de tan solo 200 registros y 4 variables numéricas tipo float: TV, Radio, Newspaper y Sales, esta última será la variable objetivo. El dataset no presenta nigún nulo, y tampoco  trae información adicional que nos facilite la descripción de las variables. Podríamos deducir que quizás se trate de un dataset sobre inversión publicitaria (TV, Radio, Newspaper) y su relación con las ventas de un producto o servicio (Sales). Cada fila del dataset podría representar una campaña publicitaria, su inversión en cada medio y las ventas que se generaron durante un determinado periodo.\n",
    "\n",
    "El dataset podría utilizarse para entender qué canal de publicidad (TV, Radio o Newspaper) impacta más en las ventas y de esta manera predecir futuras ventas en función del presupuesto asignado a cada medio, además de poder optimizar el presupuesto y saber donde invertir para maximar las ventas.\n",
    "\n",
    "Si analizamos las variables individualmente, TV tiene es el medio publicitario con una mayor inversión media (147.04), seguido de Newspaper (30.55) y por último de la radio (23.26). La desviación estándar de TV también es mayor (85.85) que en el resto de varibles, lo que indica una gran variabilidad de los gastos para este medio.\n",
    "\n",
    "Si nos fijamos en la variable objetivo Sales, las ventas medias son de 15.13. El 50% de los datos muestra ventas de 16, muy cercano a la media, lo que a priori sugiere una distribución relativamente simétrica.\n",
    "\n",
    "Para tener un poco más de información antes de trabajar con los modelos vamos a analizar la matriz de correlación:"
   ]
  },
  {
   "cell_type": "code",
   "execution_count": 16,
   "id": "2100f618-41db-4b87-b6ab-573c24f6b07d",
   "metadata": {},
   "outputs": [
    {
     "data": {
      "image/png": "[encoded data removed]",
      "text/plain": [
       "<Figure size 800x400 with 2 Axes>"
      ]
     },
     "metadata": {},
     "output_type": "display_data"
    }
   ],
   "source": [
    "import matplotlib.pyplot as plt\n",
    "import seaborn as sns\n",
    "\n",
    "fig, ax = plt.subplots(figsize=(8, 4))\n",
    "\n",
    "sns.heatmap(df.corr(numeric_only=True), \n",
    "            annot=True, cmap='coolwarm', fmt=\".2f\", linewidths=0.5, \n",
    "            ax=ax, cbar=True)\n",
    "plt.xticks(rotation=45, ha='right') # Rotamos etiquetas del eje X para mejor visualización\n",
    "plt.title(\"Matriz de Correlación\", fontsize=14)\n",
    "plt.show()"
   ]
  },
  {
   "cell_type": "markdown",
   "id": "2b3d5bc9-c10c-4508-b5f0-fa3e27acf1fb",
   "metadata": {},
   "source": [
    "**Conclusiones:** de la matriz de correlación podemos extraer las siguientes conclusiones:\n",
    "- Vemos que las relaciones existentes entre las distintas variables son todas positivas.\n",
    "- Existe una relación muy fuerte entre TV y Sales (0.90), lo que indica que a mayor inversión en publicidad en TV, mayores ventas, lo que sugiere que puede ser el canal más efectivo.\n",
    "- Tenemos una correlación algo moderada entre Radio y Sales (0.35), lo que puede tener cierta rentabilidad, además de ser un canal de ventas menos costos que la televisión.\n",
    "- Tenemos una correlación muy débil entre Newspaper y Sales (0.16), por lo que a priori, podemos deducir que invertir en publicidad en periódicos no es muy rentable o es la menos efectiva. Será una variable poco relevante para nuestro modelo.\n",
    "- Si analizamos la relación entre las variables predictoras, estas no está fuertemente correlacionadas entre sí, lo que es bueno para los modelos de regresión. Únicamente existe una relación algo moderada (0.35) entre Radio y Newspaper, lo que quizás pueda ser explicado que se utilicen estos canales de publicidad de manera combinada en las estrategias de publicidad."
   ]
  },
  {
   "cell_type": "markdown",
   "id": "6e516dd0-bb0d-4c81-99e9-ada20c3db62c",
   "metadata": {},
   "source": [
    "### 2. División del dataset en conjuntos de entrenamiento y prueba.\n",
    "En primer lugar procedemos a importar las librerías y utilizaremos 'train_test_split' par la división de nuestros datos."
   ]
  },
  {
   "cell_type": "code",
   "execution_count": 20,
   "id": "87df8f97-2eaa-47b4-81e6-c95f69390658",
   "metadata": {},
   "outputs": [],
   "source": [
    "# Importamos librerías\n",
    "from sklearn.metrics import mean_squared_error, r2_score\n",
    "from sklearn.linear_model import LinearRegression\n",
    "from sklearn.linear_model import Ridge\n",
    "from sklearn.linear_model import Lasso\n",
    "from sklearn.linear_model import RidgeCV\n",
    "from sklearn.linear_model import LassoCV\n",
    "from sklearn.model_selection import train_test_split\n",
    "from sklearn.preprocessing import StandardScaler\n",
    "from sklearn.preprocessing import StandardScaler\n",
    "from sklearn.pipeline import make_pipeline\n",
    "import numpy as np"
   ]
  },
  {
   "cell_type": "code",
   "execution_count": 22,
   "id": "ce6b19b1-4785-4542-89e8-e4e98c649cb6",
   "metadata": {},
   "outputs": [],
   "source": [
    "X = df.drop(columns=['Sales']) # Asignamos variables predictoras a X\n",
    "\n",
    "y = df['Sales'] # Asiganmos variable objetivo a y\n",
    "\n",
    "# Dividimos el conjunto de datos en entrenamiento (75%) y prueba (25%).\n",
    "X_train, X_test, y_train, y_test = train_test_split(X, y, test_size=0.25, random_state=42)\n",
    "\n",
    "# Obtenemos los nombres de las columnas del dataframe antes de escalar (cuando escalamos obtenemos un array de numpy)\n",
    "columnas = df.drop(columns=['Sales']).columns # esto lo utilizaremos más adelante para los gráficos\n",
    "\n",
    "# Escalamos sólo con datos de entrenamiento\n",
    "scaler = StandardScaler()\n",
    "X_train = scaler.fit_transform(X_train)\n",
    "X_test = scaler.transform(X_test)"
   ]
  },
  {
   "cell_type": "markdown",
   "id": "88fad0b7-9523-4090-837f-3e5382c4fd3e",
   "metadata": {},
   "source": [
    "### 3. Aplicación del modelo Regresión Lineal.\n",
    "Antes de ir con los modelos de Regresión Ridge y Lasso, vamos a ver el resultado con el módelo de Regresión Lineal, utilizando las métricas MSE y R²."
   ]
  },
  {
   "cell_type": "code",
   "execution_count": 25,
   "id": "38362f82-3ba6-4f14-8502-58aaf0840f1e",
   "metadata": {},
   "outputs": [
    {
     "data": {
      "text/html": [
       "<style>#sk-container-id-1 {\n",
       "  /* Definition of color scheme common for light and dark mode */\n",
       "  --sklearn-color-text: #000;\n",
       "  --sklearn-color-text-muted: #666;\n",
       "  --sklearn-color-line: gray;\n",
       "  /* Definition of color scheme for unfitted estimators */\n",
       "  --sklearn-color-unfitted-level-0: #fff5e6;\n",
       "  --sklearn-color-unfitted-level-1: #f6e4d2;\n",
       "  --sklearn-color-unfitted-level-2: #ffe0b3;\n",
       "  --sklearn-color-unfitted-level-3: chocolate;\n",
       "  /* Definition of color scheme for fitted estimators */\n",
       "  --sklearn-color-fitted-level-0: #f0f8ff;\n",
       "  --sklearn-color-fitted-level-1: #d4ebff;\n",
       "  --sklearn-color-fitted-level-2: #b3dbfd;\n",
       "  --sklearn-color-fitted-level-3: cornflowerblue;\n",
       "\n",
       "  /* Specific color for light theme */\n",
       "  --sklearn-color-text-on-default-background: var(--sg-text-color, var(--theme-code-foreground, var(--jp-content-font-color1, black)));\n",
       "  --sklearn-color-background: var(--sg-background-color, var(--theme-background, var(--jp-layout-color0, white)));\n",
       "  --sklearn-color-border-box: var(--sg-text-color, var(--theme-code-foreground, var(--jp-content-font-color1, black)));\n",
       "  --sklearn-color-icon: #696969;\n",
       "\n",
       "  @media (prefers-color-scheme: dark) {\n",
       "    /* Redefinition of color scheme for dark theme */\n",
       "    --sklearn-color-text-on-default-background: var(--sg-text-color, var(--theme-code-foreground, var(--jp-content-font-color1, white)));\n",
       "    --sklearn-color-background: var(--sg-background-color, var(--theme-background, var(--jp-layout-color0, #111)));\n",
       "    --sklearn-color-border-box: var(--sg-text-color, var(--theme-code-foreground, var(--jp-content-font-color1, white)));\n",
       "    --sklearn-color-icon: #878787;\n",
       "  }\n",
       "}\n",
       "\n",
       "#sk-container-id-1 {\n",
       "  color: var(--sklearn-color-text);\n",
       "}\n",
       "\n",
       "#sk-container-id-1 pre {\n",
       "  padding: 0;\n",
       "}\n",
       "\n",
       "#sk-container-id-1 input.sk-hidden--visually {\n",
       "  border: 0;\n",
       "  clip: rect(1px 1px 1px 1px);\n",
       "  clip: rect(1px, 1px, 1px, 1px);\n",
       "  height: 1px;\n",
       "  margin: -1px;\n",
       "  overflow: hidden;\n",
       "  padding: 0;\n",
       "  position: absolute;\n",
       "  width: 1px;\n",
       "}\n",
       "\n",
       "#sk-container-id-1 div.sk-dashed-wrapped {\n",
       "  border: 1px dashed var(--sklearn-color-line);\n",
       "  margin: 0 0.4em 0.5em 0.4em;\n",
       "  box-sizing: border-box;\n",
       "  padding-bottom: 0.4em;\n",
       "  background-color: var(--sklearn-color-background);\n",
       "}\n",
       "\n",
       "#sk-container-id-1 div.sk-container {\n",
       "  /* jupyter's `normalize.less` sets `[hidden] { display: none; }`\n",
       "     but bootstrap.min.css set `[hidden] { display: none !important; }`\n",
       "     so we also need the `!important` here to be able to override the\n",
       "     default hidden behavior on the sphinx rendered scikit-learn.org.\n",
       "     See: https://github.com/scikit-learn/scikit-learn/issues/21755 */\n",
       "  display: inline-block !important;\n",
       "  position: relative;\n",
       "}\n",
       "\n",
       "#sk-container-id-1 div.sk-text-repr-fallback {\n",
       "  display: none;\n",
       "}\n",
       "\n",
       "div.sk-parallel-item,\n",
       "div.sk-serial,\n",
       "div.sk-item {\n",
       "  /* draw centered vertical line to link estimators */\n",
       "  background-image: linear-gradient(var(--sklearn-color-text-on-default-background), var(--sklearn-color-text-on-default-background));\n",
       "  background-size: 2px 100%;\n",
       "  background-repeat: no-repeat;\n",
       "  background-position: center center;\n",
       "}\n",
       "\n",
       "/* Parallel-specific style estimator block */\n",
       "\n",
       "#sk-container-id-1 div.sk-parallel-item::after {\n",
       "  content: \"\";\n",
       "  width: 100%;\n",
       "  border-bottom: 2px solid var(--sklearn-color-text-on-default-background);\n",
       "  flex-grow: 1;\n",
       "}\n",
       "\n",
       "#sk-container-id-1 div.sk-parallel {\n",
       "  display: flex;\n",
       "  align-items: stretch;\n",
       "  justify-content: center;\n",
       "  background-color: var(--sklearn-color-background);\n",
       "  position: relative;\n",
       "}\n",
       "\n",
       "#sk-container-id-1 div.sk-parallel-item {\n",
       "  display: flex;\n",
       "  flex-direction: column;\n",
       "}\n",
       "\n",
       "#sk-container-id-1 div.sk-parallel-item:first-child::after {\n",
       "  align-self: flex-end;\n",
       "  width: 50%;\n",
       "}\n",
       "\n",
       "#sk-container-id-1 div.sk-parallel-item:last-child::after {\n",
       "  align-self: flex-start;\n",
       "  width: 50%;\n",
       "}\n",
       "\n",
       "#sk-container-id-1 div.sk-parallel-item:only-child::after {\n",
       "  width: 0;\n",
       "}\n",
       "\n",
       "/* Serial-specific style estimator block */\n",
       "\n",
       "#sk-container-id-1 div.sk-serial {\n",
       "  display: flex;\n",
       "  flex-direction: column;\n",
       "  align-items: center;\n",
       "  background-color: var(--sklearn-color-background);\n",
       "  padding-right: 1em;\n",
       "  padding-left: 1em;\n",
       "}\n",
       "\n",
       "\n",
       "/* Toggleable style: style used for estimator/Pipeline/ColumnTransformer box that is\n",
       "clickable and can be expanded/collapsed.\n",
       "- Pipeline and ColumnTransformer use this feature and define the default style\n",
       "- Estimators will overwrite some part of the style using the `sk-estimator` class\n",
       "*/\n",
       "\n",
       "/* Pipeline and ColumnTransformer style (default) */\n",
       "\n",
       "#sk-container-id-1 div.sk-toggleable {\n",
       "  /* Default theme specific background. It is overwritten whether we have a\n",
       "  specific estimator or a Pipeline/ColumnTransformer */\n",
       "  background-color: var(--sklearn-color-background);\n",
       "}\n",
       "\n",
       "/* Toggleable label */\n",
       "#sk-container-id-1 label.sk-toggleable__label {\n",
       "  cursor: pointer;\n",
       "  display: flex;\n",
       "  width: 100%;\n",
       "  margin-bottom: 0;\n",
       "  padding: 0.5em;\n",
       "  box-sizing: border-box;\n",
       "  text-align: center;\n",
       "  align-items: start;\n",
       "  justify-content: space-between;\n",
       "  gap: 0.5em;\n",
       "}\n",
       "\n",
       "#sk-container-id-1 label.sk-toggleable__label .caption {\n",
       "  font-size: 0.6rem;\n",
       "  font-weight: lighter;\n",
       "  color: var(--sklearn-color-text-muted);\n",
       "}\n",
       "\n",
       "#sk-container-id-1 label.sk-toggleable__label-arrow:before {\n",
       "  /* Arrow on the left of the label */\n",
       "  content: \"▸\";\n",
       "  float: left;\n",
       "  margin-right: 0.25em;\n",
       "  color: var(--sklearn-color-icon);\n",
       "}\n",
       "\n",
       "#sk-container-id-1 label.sk-toggleable__label-arrow:hover:before {\n",
       "  color: var(--sklearn-color-text);\n",
       "}\n",
       "\n",
       "/* Toggleable content - dropdown */\n",
       "\n",
       "#sk-container-id-1 div.sk-toggleable__content {\n",
       "  max-height: 0;\n",
       "  max-width: 0;\n",
       "  overflow: hidden;\n",
       "  text-align: left;\n",
       "  /* unfitted */\n",
       "  background-color: var(--sklearn-color-unfitted-level-0);\n",
       "}\n",
       "\n",
       "#sk-container-id-1 div.sk-toggleable__content.fitted {\n",
       "  /* fitted */\n",
       "  background-color: var(--sklearn-color-fitted-level-0);\n",
       "}\n",
       "\n",
       "#sk-container-id-1 div.sk-toggleable__content pre {\n",
       "  margin: 0.2em;\n",
       "  border-radius: 0.25em;\n",
       "  color: var(--sklearn-color-text);\n",
       "  /* unfitted */\n",
       "  background-color: var(--sklearn-color-unfitted-level-0);\n",
       "}\n",
       "\n",
       "#sk-container-id-1 div.sk-toggleable__content.fitted pre {\n",
       "  /* unfitted */\n",
       "  background-color: var(--sklearn-color-fitted-level-0);\n",
       "}\n",
       "\n",
       "#sk-container-id-1 input.sk-toggleable__control:checked~div.sk-toggleable__content {\n",
       "  /* Expand drop-down */\n",
       "  max-height: 200px;\n",
       "  max-width: 100%;\n",
       "  overflow: auto;\n",
       "}\n",
       "\n",
       "#sk-container-id-1 input.sk-toggleable__control:checked~label.sk-toggleable__label-arrow:before {\n",
       "  content: \"▾\";\n",
       "}\n",
       "\n",
       "/* Pipeline/ColumnTransformer-specific style */\n",
       "\n",
       "#sk-container-id-1 div.sk-label input.sk-toggleable__control:checked~label.sk-toggleable__label {\n",
       "  color: var(--sklearn-color-text);\n",
       "  background-color: var(--sklearn-color-unfitted-level-2);\n",
       "}\n",
       "\n",
       "#sk-container-id-1 div.sk-label.fitted input.sk-toggleable__control:checked~label.sk-toggleable__label {\n",
       "  background-color: var(--sklearn-color-fitted-level-2);\n",
       "}\n",
       "\n",
       "/* Estimator-specific style */\n",
       "\n",
       "/* Colorize estimator box */\n",
       "#sk-container-id-1 div.sk-estimator input.sk-toggleable__control:checked~label.sk-toggleable__label {\n",
       "  /* unfitted */\n",
       "  background-color: var(--sklearn-color-unfitted-level-2);\n",
       "}\n",
       "\n",
       "#sk-container-id-1 div.sk-estimator.fitted input.sk-toggleable__control:checked~label.sk-toggleable__label {\n",
       "  /* fitted */\n",
       "  background-color: var(--sklearn-color-fitted-level-2);\n",
       "}\n",
       "\n",
       "#sk-container-id-1 div.sk-label label.sk-toggleable__label,\n",
       "#sk-container-id-1 div.sk-label label {\n",
       "  /* The background is the default theme color */\n",
       "  color: var(--sklearn-color-text-on-default-background);\n",
       "}\n",
       "\n",
       "/* On hover, darken the color of the background */\n",
       "#sk-container-id-1 div.sk-label:hover label.sk-toggleable__label {\n",
       "  color: var(--sklearn-color-text);\n",
       "  background-color: var(--sklearn-color-unfitted-level-2);\n",
       "}\n",
       "\n",
       "/* Label box, darken color on hover, fitted */\n",
       "#sk-container-id-1 div.sk-label.fitted:hover label.sk-toggleable__label.fitted {\n",
       "  color: var(--sklearn-color-text);\n",
       "  background-color: var(--sklearn-color-fitted-level-2);\n",
       "}\n",
       "\n",
       "/* Estimator label */\n",
       "\n",
       "#sk-container-id-1 div.sk-label label {\n",
       "  font-family: monospace;\n",
       "  font-weight: bold;\n",
       "  display: inline-block;\n",
       "  line-height: 1.2em;\n",
       "}\n",
       "\n",
       "#sk-container-id-1 div.sk-label-container {\n",
       "  text-align: center;\n",
       "}\n",
       "\n",
       "/* Estimator-specific */\n",
       "#sk-container-id-1 div.sk-estimator {\n",
       "  font-family: monospace;\n",
       "  border: 1px dotted var(--sklearn-color-border-box);\n",
       "  border-radius: 0.25em;\n",
       "  box-sizing: border-box;\n",
       "  margin-bottom: 0.5em;\n",
       "  /* unfitted */\n",
       "  background-color: var(--sklearn-color-unfitted-level-0);\n",
       "}\n",
       "\n",
       "#sk-container-id-1 div.sk-estimator.fitted {\n",
       "  /* fitted */\n",
       "  background-color: var(--sklearn-color-fitted-level-0);\n",
       "}\n",
       "\n",
       "/* on hover */\n",
       "#sk-container-id-1 div.sk-estimator:hover {\n",
       "  /* unfitted */\n",
       "  background-color: var(--sklearn-color-unfitted-level-2);\n",
       "}\n",
       "\n",
       "#sk-container-id-1 div.sk-estimator.fitted:hover {\n",
       "  /* fitted */\n",
       "  background-color: var(--sklearn-color-fitted-level-2);\n",
       "}\n",
       "\n",
       "/* Specification for estimator info (e.g. \"i\" and \"?\") */\n",
       "\n",
       "/* Common style for \"i\" and \"?\" */\n",
       "\n",
       ".sk-estimator-doc-link,\n",
       "a:link.sk-estimator-doc-link,\n",
       "a:visited.sk-estimator-doc-link {\n",
       "  float: right;\n",
       "  font-size: smaller;\n",
       "  line-height: 1em;\n",
       "  font-family: monospace;\n",
       "  background-color: var(--sklearn-color-background);\n",
       "  border-radius: 1em;\n",
       "  height: 1em;\n",
       "  width: 1em;\n",
       "  text-decoration: none !important;\n",
       "  margin-left: 0.5em;\n",
       "  text-align: center;\n",
       "  /* unfitted */\n",
       "  border: var(--sklearn-color-unfitted-level-1) 1pt solid;\n",
       "  color: var(--sklearn-color-unfitted-level-1);\n",
       "}\n",
       "\n",
       ".sk-estimator-doc-link.fitted,\n",
       "a:link.sk-estimator-doc-link.fitted,\n",
       "a:visited.sk-estimator-doc-link.fitted {\n",
       "  /* fitted */\n",
       "  border: var(--sklearn-color-fitted-level-1) 1pt solid;\n",
       "  color: var(--sklearn-color-fitted-level-1);\n",
       "}\n",
       "\n",
       "/* On hover */\n",
       "div.sk-estimator:hover .sk-estimator-doc-link:hover,\n",
       ".sk-estimator-doc-link:hover,\n",
       "div.sk-label-container:hover .sk-estimator-doc-link:hover,\n",
       ".sk-estimator-doc-link:hover {\n",
       "  /* unfitted */\n",
       "  background-color: var(--sklearn-color-unfitted-level-3);\n",
       "  color: var(--sklearn-color-background);\n",
       "  text-decoration: none;\n",
       "}\n",
       "\n",
       "div.sk-estimator.fitted:hover .sk-estimator-doc-link.fitted:hover,\n",
       ".sk-estimator-doc-link.fitted:hover,\n",
       "div.sk-label-container:hover .sk-estimator-doc-link.fitted:hover,\n",
       ".sk-estimator-doc-link.fitted:hover {\n",
       "  /* fitted */\n",
       "  background-color: var(--sklearn-color-fitted-level-3);\n",
       "  color: var(--sklearn-color-background);\n",
       "  text-decoration: none;\n",
       "}\n",
       "\n",
       "/* Span, style for the box shown on hovering the info icon */\n",
       ".sk-estimator-doc-link span {\n",
       "  display: none;\n",
       "  z-index: 9999;\n",
       "  position: relative;\n",
       "  font-weight: normal;\n",
       "  right: .2ex;\n",
       "  padding: .5ex;\n",
       "  margin: .5ex;\n",
       "  width: min-content;\n",
       "  min-width: 20ex;\n",
       "  max-width: 50ex;\n",
       "  color: var(--sklearn-color-text);\n",
       "  box-shadow: 2pt 2pt 4pt #999;\n",
       "  /* unfitted */\n",
       "  background: var(--sklearn-color-unfitted-level-0);\n",
       "  border: .5pt solid var(--sklearn-color-unfitted-level-3);\n",
       "}\n",
       "\n",
       ".sk-estimator-doc-link.fitted span {\n",
       "  /* fitted */\n",
       "  background: var(--sklearn-color-fitted-level-0);\n",
       "  border: var(--sklearn-color-fitted-level-3);\n",
       "}\n",
       "\n",
       ".sk-estimator-doc-link:hover span {\n",
       "  display: block;\n",
       "}\n",
       "\n",
       "/* \"?\"-specific style due to the `<a>` HTML tag */\n",
       "\n",
       "#sk-container-id-1 a.estimator_doc_link {\n",
       "  float: right;\n",
       "  font-size: 1rem;\n",
       "  line-height: 1em;\n",
       "  font-family: monospace;\n",
       "  background-color: var(--sklearn-color-background);\n",
       "  border-radius: 1rem;\n",
       "  height: 1rem;\n",
       "  width: 1rem;\n",
       "  text-decoration: none;\n",
       "  /* unfitted */\n",
       "  color: var(--sklearn-color-unfitted-level-1);\n",
       "  border: var(--sklearn-color-unfitted-level-1) 1pt solid;\n",
       "}\n",
       "\n",
       "#sk-container-id-1 a.estimator_doc_link.fitted {\n",
       "  /* fitted */\n",
       "  border: var(--sklearn-color-fitted-level-1) 1pt solid;\n",
       "  color: var(--sklearn-color-fitted-level-1);\n",
       "}\n",
       "\n",
       "/* On hover */\n",
       "#sk-container-id-1 a.estimator_doc_link:hover {\n",
       "  /* unfitted */\n",
       "  background-color: var(--sklearn-color-unfitted-level-3);\n",
       "  color: var(--sklearn-color-background);\n",
       "  text-decoration: none;\n",
       "}\n",
       "\n",
       "#sk-container-id-1 a.estimator_doc_link.fitted:hover {\n",
       "  /* fitted */\n",
       "  background-color: var(--sklearn-color-fitted-level-3);\n",
       "}\n",
       "</style><div id=\"sk-container-id-1\" class=\"sk-top-container\"><div class=\"sk-text-repr-fallback\"><pre>LinearRegression()</pre><b>In a Jupyter environment, please rerun this cell to show the HTML representation or trust the notebook. <br />On GitHub, the HTML representation is unable to render, please try loading this page with nbviewer.org.</b></div><div class=\"sk-container\" hidden><div class=\"sk-item\"><div class=\"sk-estimator fitted sk-toggleable\"><input class=\"sk-toggleable__control sk-hidden--visually\" id=\"sk-estimator-id-1\" type=\"checkbox\" checked><label for=\"sk-estimator-id-1\" class=\"sk-toggleable__label fitted sk-toggleable__label-arrow\"><div><div>LinearRegression</div></div><div><a class=\"sk-estimator-doc-link fitted\" rel=\"noreferrer\" target=\"_blank\" href=\"https://scikit-learn.org/1.6/modules/generated/sklearn.linear_model.LinearRegression.html\">?<span>Documentation for LinearRegression</span></a><span class=\"sk-estimator-doc-link fitted\">i<span>Fitted</span></span></div></label><div class=\"sk-toggleable__content fitted\"><pre>LinearRegression()</pre></div> </div></div></div></div>"
      ],
      "text/plain": [
       "LinearRegression()"
      ]
     },
     "execution_count": 25,
     "metadata": {},
     "output_type": "execute_result"
    }
   ],
   "source": [
    "model = LinearRegression() # Creamos el modelo\n",
    "model.fit(X = X_train, y = y_train) # Ajustamos el modelo"
   ]
  },
  {
   "cell_type": "code",
   "execution_count": 27,
   "id": "1f1b9d75-400c-4187-94ed-5b60528ff1b3",
   "metadata": {},
   "outputs": [],
   "source": [
    "# Realizamos predicción de nuestra variable objetivo a partir de nuestra variable predictora de entrenamiento X_test\n",
    "y_pred = model.predict(X_test)"
   ]
  },
  {
   "cell_type": "code",
   "execution_count": 29,
   "id": "1c544688-2ba6-43c3-ac1d-6fc9b5f4da7d",
   "metadata": {},
   "outputs": [
    {
     "name": "stdout",
     "output_type": "stream",
     "text": [
      "Error cuadrático medio MSE:  2.4040674447118904\n",
      "R² score:  0.9115647723992757\n"
     ]
    }
   ],
   "source": [
    "# Evaluamos el resultado de nuestro modelo con las métricas MSE y R2\n",
    "mse = mean_squared_error(y_test, y_pred) # cálculo del error cuadrático medio\n",
    "r2 = r2_score(y_test, y_pred) # cálculo del coeficiente de determinación\n",
    "print('Error cuadrático medio MSE: ', mse)\n",
    "print('R² score: ', r2)"
   ]
  },
  {
   "cell_type": "markdown",
   "id": "21a7b985-fed6-49b8-b814-26609bec93c3",
   "metadata": {},
   "source": [
    "**Conclusiones:** el error cuadrático medio mide la media de los errores al cuadrado entre las predicciones y los valores reales. Cuanto más bajo será mejor. Nuestro rango de 'Sales' está entre 1.6 y 27 según vimos en el análisis previo del dataset en el apartado anterior, lo que un error medio de 2.4 es bastante aceptable. En cuanto al coeficiente de determinación (R² score), este nos mide qué proporción de la variabilidad de 'Sales' se explica por las variables predictoras. Cuanto más cerca de 1, mejor, en nuestro caso es 0.91, lo que indica que explica el 91% de la varianza de las ventas, lo que es un muy buen resultado."
   ]
  },
  {
   "cell_type": "markdown",
   "id": "f7f5a25b-31d0-4461-82a4-93b0b93650e5",
   "metadata": {},
   "source": [
    "Vamos a analizar los coeficientes para este modelo mediante un gráfico tallos (stem plot), ya que es ideal para visualizar los valores individuales de los coeficientes, destacando su magnitud y signo, permitiéndonos comparar visualmente que variables tienen mayor impacto, identificar los coeficientes con poca influencia (valores cercanos a cero) y ver clarametne si el efecto es positivo o negativo."
   ]
  },
  {
   "cell_type": "code",
   "execution_count": 33,
   "id": "251e2b5c-3edf-4b23-812c-709974c36565",
   "metadata": {},
   "outputs": [
    {
     "data": {
      "image/png": "[encoded data removed]",
      "text/plain": [
       "<Figure size 1000x400 with 1 Axes>"
      ]
     },
     "metadata": {},
     "output_type": "display_data"
    }
   ],
   "source": [
    "# Creamos un dataframe con el nombre de las variables y los coeficientes\n",
    "df_coeficientes = pd.DataFrame(\n",
    "                        {'predictor': columnas,\n",
    "                         'coef': model.coef_.flatten()}\n",
    "                  )\n",
    "# Creamos el gráfico de tallos\n",
    "fig, ax = plt.subplots(figsize=(10, 4))\n",
    "ax.stem(df_coeficientes.predictor, df_coeficientes.coef, markerfmt=' ')\n",
    "plt.xticks(rotation=45, ha='right') # Rotamos etiquetas del eje X para mejor visualización\n",
    "ax.set_xlabel('Variables')\n",
    "ax.set_ylabel('Coeficientes')\n",
    "ax.set_title('Coeficientes del modelo de Regresión Lineal');"
   ]
  },
  {
   "cell_type": "markdown",
   "id": "d72f07f4-508a-4430-95c2-ada23cb933a8",
   "metadata": {},
   "source": [
    "**Conclusiones:** cada coeficiente indica cuánto se espera que aumenten las ventas por cada unidad adicional de inversión en ese medio, manteniendo las otras variables constantes. La TV se confirma como la variable más influyente, ya que por cada aumento de una desviación estándar en el gasto de publicidad en TV, las ventas aumentan 4.5 unidades en la escala de Ventas. Radio tiene un impacto moderado, con 1.5. Vemos que Newspaper tiene una influencia casi nula. Esto puede indicar que invertir en periódicos no tiene un impacto significativo en las ventas. Por tanto, esta variable es posible que sea penalizada y posiblemente eliminada cuando apliquemos Lasso.\n",
    "Por último, vemos que todos estos valores corroboran los datos vistos en la matriz de correlación."
   ]
  },
  {
   "cell_type": "markdown",
   "id": "262ff15e-497c-4787-9576-73c74c6b80f6",
   "metadata": {},
   "source": [
    "### 4. Aplicación del modelo de Regresión Ridge con validación cruzada.\n",
    "Vamos aplicar ahora el Modelo Ridge con validación cruzada, muy útil para evitar sobreajuste. Para ello usamos un Pipeline con el escalado dentro, así lo realizamos dentro del proceso de validación cruzada. Una vez entrenado y evaluado el modelo extraeremos el valor óptima de alpha y además calcularemos las métricas de error cuadrático medio (MSE) y R² en el conjunto de prueba."
   ]
  },
  {
   "cell_type": "code",
   "execution_count": 37,
   "id": "e2d4f40a-1f4f-4645-afbe-80002d185316",
   "metadata": {},
   "outputs": [
    {
     "name": "stdout",
     "output_type": "stream",
     "text": [
      "Mejor alpha seleccionado por RidgeCV: 0.9326033468832199\n",
      "Error cuadrático medio (MSE): 2.410579343261626\n",
      "R² score: 0.9113252278591982\n",
      "Valor óptimo de alpha: 0.9326033468832199\n"
     ]
    }
   ],
   "source": [
    "# Exploramos una amplia gama de alphas: 100 valores entre 10^-3 y 10^3\n",
    "alphas = np.logspace(-3, 3, 100)  \n",
    "\n",
    "# Creamos un pipeline: escalado + modelo\n",
    "model_ridge_cv = make_pipeline(\n",
    "    StandardScaler(),\n",
    "    RidgeCV(alphas=alphas, cv=5)  # validación cruzada con 5 folds\n",
    ")\n",
    "\n",
    "# Entrenamos el modelo\n",
    "model_ridge_cv.fit(X_train, y_train)\n",
    "\n",
    "# Predecimos en test\n",
    "y_pred_ridgecv = model_ridge_cv.predict(X_test)\n",
    "\n",
    "# Evaluamos rendimiento\n",
    "mse_ridge = mean_squared_error(y_test, y_pred_ridgecv)\n",
    "r2_ridge = r2_score(y_test, y_pred_ridgecv)\n",
    "\n",
    "# Extraemos el mejor alpha y los coeficientes\n",
    "best_alpha = model_ridge_cv.named_steps['ridgecv'].alpha_\n",
    "coefs_ridge_cv = model_ridge_cv.named_steps['ridgecv'].coef_\n",
    "\n",
    "# Resultados\n",
    "print('Mejor alpha seleccionado por RidgeCV:', best_alpha)\n",
    "print('Error cuadrático medio (MSE):', mse_ridge)\n",
    "print('R² score:', r2_ridge)\n",
    "print('Valor óptimo de alpha:', best_alpha)"
   ]
  },
  {
   "cell_type": "markdown",
   "id": "9466af23-5a88-476a-b1cb-19ddd1436420",
   "metadata": {},
   "source": [
    "Vamos a analizar cómo varían los coeficientes de las características predictoras cuando variamos el valor de alpha. Para ello vamos a visualizar los coeficientes en función del parámetro alpha, para comprender mejor el efecto de la regularización en Ridge. Tenemos que tener una cosa en cuenta. Estamos usando el escalado de los datos dentro de Pipeline, por lo que ahora debemos realizar el escalado manualmete antes de hacer nuestro bucle de alphas en nuestros datos de entrenamiento."
   ]
  },
  {
   "cell_type": "code",
   "execution_count": 40,
   "id": "9f792527-80ac-40a0-9f69-ca730d96633e",
   "metadata": {},
   "outputs": [
    {
     "data": {
      "image/png": "[encoded data removed]",
      "text/plain": [
       "<Figure size 800x400 with 1 Axes>"
      ]
     },
     "metadata": {},
     "output_type": "display_data"
    }
   ],
   "source": [
    "# Escalado manual para entrenar el modelo en un bucle posteriormente (RidgeCV usa datos escalados)\n",
    "scaler = StandardScaler()\n",
    "X_train_scaled = scaler.fit_transform(X_train)\n",
    "\n",
    "# Lista de coeficientes vacía\n",
    "coefs = []\n",
    "\n",
    "# Entrenamos un modelo temporal Ridge por cada alpha y guardamos sus coeficientes\n",
    "for alpha in alphas: # recordamos que alphas = np.logspace(-3, 3, 100)\n",
    "    modelo_temp = Ridge(alpha=alpha, fit_intercept=False)\n",
    "    modelo_temp.fit(X_train_scaled, y_train)\n",
    "    coefs.append(modelo_temp.coef_)\n",
    "\n",
    "# Convertimos la lista de coeficientes a array para graficar fácilmente\n",
    "coefs = np.array(coefs)\n",
    "\n",
    "# Gráfico\n",
    "fig, ax = plt.subplots(figsize=(8, 4))\n",
    "\n",
    "# Trazamos una línea por cada variable\n",
    "for i, nombre in enumerate(X.columns):\n",
    "    ax.plot(alphas, coefs[:, i], label=nombre)\n",
    "ax.set_xscale('log')\n",
    "ax.set_xlabel('Alpha (regularización)')\n",
    "ax.set_ylabel('Coeficientes')\n",
    "ax.set_title('Evolución de los coeficientes en función de alpha (Ridge)')\n",
    "plt.legend() # Añadimos una leyenda\n",
    "plt.axis('tight')\n",
    "plt.grid(True)\n",
    "plt.show()"
   ]
  },
  {
   "cell_type": "markdown",
   "id": "4377941c-ed50-4401-adb5-96b9e91772a9",
   "metadata": {},
   "source": [
    "**Conclusión:** en el gráfico anterior podemos ver la evolución de los coeficientes para los distintos valores de alpha. Nuestro valor óptimo es 0.93, es decir, muy cercano al 10^0 = 1, justo donde vemos en el gráfico que empiezan disminuir los coeficientes de las distintas variables. Vemos que con Ridge a medida que aumentamos alpha los valores se aproxima a cero, pero nunca llegan a ser 0."
   ]
  },
  {
   "cell_type": "markdown",
   "id": "923acb68-4909-41ad-bd97-9ee9a248c068",
   "metadata": {},
   "source": [
    "Por último, vamos a analizar un con gráfico de tallos los coeficientes para nuestro valor de alpha óptimo calculado anteriormente: 0.93."
   ]
  },
  {
   "cell_type": "code",
   "execution_count": 44,
   "id": "12c58e07-4df1-409b-a70b-83c546938c40",
   "metadata": {},
   "outputs": [
    {
     "data": {
      "image/png": "[encoded data removed]",
      "text/plain": [
       "<Figure size 1000x400 with 1 Axes>"
      ]
     },
     "metadata": {},
     "output_type": "display_data"
    }
   ],
   "source": [
    "# Creamos DataFrame con coeficientes\n",
    "df_coefs_ridge = pd.DataFrame({\n",
    "    'predictor': columnas,\n",
    "    'coef': coefs_ridge_cv\n",
    "})\n",
    "\n",
    "# Gráfico de tallos\n",
    "fig, ax = plt.subplots(figsize=(10, 4))\n",
    "ax.stem(df_coefs_ridge.predictor, df_coefs_ridge.coef, markerfmt=' ')\n",
    "plt.xticks(rotation=45, ha='right')\n",
    "ax.set_xlabel('Variables')\n",
    "ax.set_ylabel('Coeficientes')\n",
    "ax.set_title(f'Coeficientes del modelo Ridge (alpha={best_alpha})')\n",
    "plt.show()"
   ]
  },
  {
   "cell_type": "markdown",
   "id": "cd348146-2a1e-4a62-8b69-12b6be4b62cc",
   "metadata": {},
   "source": [
    "**Conclusiones:** vemos que los valores son similares a los coeficientes obtenidos en el modelo de regresión lineal. Esto se puede deber que nuestro modelo no se beneficia de la regularización, dado que tenemos muy pocos predictores, tan solo 3, y que no hay una correlación entre variables predictoras significativa. Nuestro modelo inicial puede ser bueno y no estar sobreajustando."
   ]
  },
  {
   "cell_type": "markdown",
   "id": "3ca65141-cd05-4396-ae54-cf119f7d7206",
   "metadata": {},
   "source": [
    "### 5. Aplicación del modelo de Regresión Lasso con validación cruzada.\n",
    "Vamos aplicar ahora el Modelo Lasso con validación cruzada. Usaremos de nuevo un Pipeline con el escalado dentro. Una vez entrenado y evaluado el modelo extraeremos el valor óptimo de alpha y además calcularemos las métricas de error cuadrático medio (MSE) y R² en el conjunto de prueba."
   ]
  },
  {
   "cell_type": "code",
   "execution_count": 48,
   "id": "14554f15-091f-426d-a72e-aac75c2e2654",
   "metadata": {},
   "outputs": [
    {
     "name": "stdout",
     "output_type": "stream",
     "text": [
      "Mejor alpha seleccionado por LassoCV: 0.049770235643321115\n",
      "Error cuadrático medio Lasso (MSE): 2.414571531472802\n",
      "R² score Lasso:  0.9111783725478562\n",
      "Valor óptimo de alpha: 0.049770235643321115\n"
     ]
    }
   ],
   "source": [
    "# Creamos un pipeline: escalado + modelo LassoCV\n",
    "model_lasso_cv = make_pipeline(\n",
    "    StandardScaler(),\n",
    "    LassoCV(alphas=alphas, cv=5, max_iter=10000)  # max_iter para evitar warning por convergencia\n",
    ")\n",
    "\n",
    "# Entrenamiento\n",
    "model_lasso_cv.fit(X_train, y_train)\n",
    "\n",
    "# Predicción\n",
    "y_pred_lassocv = model_lasso_cv.predict(X_test)\n",
    "\n",
    "# Evaluación\n",
    "mse_lasso = mean_squared_error(y_test, y_pred_lassocv)\n",
    "r2_lasso = r2_score(y_test, y_pred_lassocv)\n",
    "\n",
    "# Mejor alpha y coeficientes\n",
    "best_alpha_lasso = model_lasso_cv.named_steps['lassocv'].alpha_\n",
    "coefs_lasso_cv = model_lasso_cv.named_steps['lassocv'].coef_\n",
    "\n",
    "# Resultados\n",
    "print('Mejor alpha seleccionado por LassoCV:', best_alpha_lasso)\n",
    "print('Error cuadrático medio Lasso (MSE):', mse_lasso)\n",
    "print('R² score Lasso: ', r2_lasso)\n",
    "print('Valor óptimo de alpha:', best_alpha_lasso)"
   ]
  },
  {
   "cell_type": "markdown",
   "id": "e440413c-c5b5-4838-a504-e25eea1a3371",
   "metadata": {},
   "source": [
    "Vamos a analizar cómo varían los coeficientes de las características predictoras cuando variamos el valor de alpha para comprender mejor el efecto de la regularización en Lasso."
   ]
  },
  {
   "cell_type": "code",
   "execution_count": 51,
   "id": "59772827-331c-4106-913c-9c679359f3f3",
   "metadata": {},
   "outputs": [
    {
     "data": {
      "image/png": "[encoded data removed]",
      "text/plain": [
       "<Figure size 800x400 with 1 Axes>"
      ]
     },
     "metadata": {},
     "output_type": "display_data"
    }
   ],
   "source": [
    "# Escalado manual\n",
    "scaler = StandardScaler()\n",
    "X_train_scaled = scaler.fit_transform(X_train)\n",
    "\n",
    "# Evolución de coeficientes con alpha\n",
    "coefs_lasso_path = []\n",
    "for alpha in alphas:\n",
    "    modelo_temp = Lasso(alpha=alpha, fit_intercept=False, max_iter=10000)\n",
    "    modelo_temp.fit(X_train_scaled, y_train)\n",
    "    coefs_lasso_path.append(modelo_temp.coef_)\n",
    "\n",
    "coefs_lasso_path = np.array(coefs_lasso_path)\n",
    "\n",
    "# Gráfico de evolución\n",
    "fig, ax = plt.subplots(figsize=(8, 4))\n",
    "for i, nombre in enumerate(X.columns):\n",
    "    ax.plot(alphas, coefs_lasso_path[:, i], label=nombre)\n",
    "ax.set_xscale('log')\n",
    "ax.set_xlabel('Alpha (regularización)')\n",
    "ax.set_ylabel('Coeficientes')\n",
    "ax.set_title('Evolución de los coeficientes en función de alpha (Lasso)')\n",
    "plt.legend() # Agregamos leyenda\n",
    "plt.axis('tight')\n",
    "plt.grid(True)\n",
    "plt.show()"
   ]
  },
  {
   "cell_type": "markdown",
   "id": "92a91901-c71b-4977-84fe-ac0a2efdd291",
   "metadata": {},
   "source": [
    "Por último, vamos a analizar un con gráfico de tallos los coeficientes para nuestro valor de alpha óptimo calculado anteriormente: 0.0498."
   ]
  },
  {
   "cell_type": "code",
   "execution_count": 54,
   "id": "9b24809c-47a9-4002-b3e4-6509a2117b53",
   "metadata": {},
   "outputs": [
    {
     "data": {
      "image/png": "[encoded data removed]",
      "text/plain": [
       "<Figure size 1000x400 with 1 Axes>"
      ]
     },
     "metadata": {},
     "output_type": "display_data"
    }
   ],
   "source": [
    "# DataFrame con coeficientes finales\n",
    "df_coefs_lasso = pd.DataFrame({\n",
    "    'predictor': columnas,\n",
    "    'coef': coefs_lasso_cv\n",
    "})\n",
    "\n",
    "# Gráfico de tallos\n",
    "fig, ax = plt.subplots(figsize=(10, 4))\n",
    "ax.stem(df_coefs_lasso.predictor, df_coefs_lasso.coef, markerfmt=' ')\n",
    "plt.xticks(rotation=45, ha='right')\n",
    "ax.set_xlabel('Variables')\n",
    "ax.set_ylabel('Coeficientes')\n",
    "ax.set_title(f'Coeficientes del modelo Lasso (alpha={best_alpha_lasso})')\n",
    "plt.show()"
   ]
  },
  {
   "cell_type": "markdown",
   "id": "69d3d073-76c5-4814-a1c6-6e29eea86441",
   "metadata": {},
   "source": [
    "**Conclusiones:** Lasso aplica reducción de coeficientes a cero si alguna variable no aporta al modelo. En nuestro caso, vemos como esto sucede con Newspaper."
   ]
  },
  {
   "cell_type": "markdown",
   "id": "696067b1-fae1-4377-9a1a-6c74a8e3ae3d",
   "metadata": {},
   "source": [
    "A continuación vamos a realizar un resumen de las métricas obtenidas con los modelos para extraer las conclusiones:"
   ]
  },
  {
   "cell_type": "code",
   "execution_count": 58,
   "id": "fbc32d6e-337a-47e9-bf8c-4803c0385655",
   "metadata": {},
   "outputs": [
    {
     "name": "stdout",
     "output_type": "stream",
     "text": [
      "Error cuadrático medio Regresión Lineal (MSE):  2.4041\n",
      "R² score Regresión Lineal:  0.9116\n",
      "Error cuadrático medio Ridge (MSE) para su alpha óptima: 2.4106\n",
      "R² score Ridge para su alpha óptima:  0.9113\n",
      "Error cuadrático medio Lasso (MSE) para su alpha óptima: 2.4146\n",
      "R² score Lasso para su alpha óptima:  0.9112\n"
     ]
    }
   ],
   "source": [
    "print('Error cuadrático medio Regresión Lineal (MSE): ', round(mse, 4))\n",
    "print('R² score Regresión Lineal: ', round(r2, 4))\n",
    "\n",
    "print('Error cuadrático medio Ridge (MSE) para su alpha óptima:', round(mse_ridge, 4))\n",
    "print('R² score Ridge para su alpha óptima: ', round(r2_ridge, 4))\n",
    "\n",
    "print('Error cuadrático medio Lasso (MSE) para su alpha óptima:', round(mse_lasso, 4))\n",
    "print('R² score Lasso para su alpha óptima: ', round(r2_lasso, 4))"
   ]
  },
  {
   "cell_type": "markdown",
   "id": "7a54b05b-1f35-46b9-974b-af8718e44519",
   "metadata": {},
   "source": [
    "**Conclusión:** nuestro dataset es demasiado simple, de ahí que no veamos una diferencia apreciable en los resultados obtenidos tras aplicar regularización con Ridge o Lasso."
   ]
  },
  {
   "cell_type": "markdown",
   "id": "66ba8bdf-7c23-4bfb-b3d2-c0713932e23e",
   "metadata": {},
   "source": [
    "**Conclusiones finales:**\n",
    "La **regularización** modifica la forma en que el modelo ajusta los coeficientes, añadiendo una penalización por su magnitud al proceso de entrenamiento. Esto nos puede proporcionar varios beneficios:\n",
    "- reduce la magnitud de los coeficientes, evitando que el modelo se ajuste en exceso a los datos de entrenamiento.\n",
    "- aumenta la generalización, algo ideal, ya que mejora el rendimiento en datos no vistos en el entrenamiento.\n",
    "- controla el sobreajuste, especialmente cuando hay muchas variables o ruido.\n",
    "\n",
    "En **Ridge**, los coeficientes tienden a cero suavemente conforme aumenta alpha, pero rara vez son exactamente cero, como pudimos ver en los gráficos anteriores. Las variables irrelevantes tendrán coeficientes muy pequeños, pero siguen formando parte del modelo. Este modelo es bueno cuando todas las varaibles aportan algo o cuando hay multicolinealidad, es decir, que dos o más variables presente una alta correlación entre sí.\n",
    "\n",
    "En cambio en **Lasso**, muchos coeficientes se hacen exactamente cero cuando alpha crece, lo que es muy útil para selección de variables cuando tenemos un dataset con muchas características predictoras, ya que elimina automáticamente las variables menos importantes. Por tanto, Lasso es bueno cuando sólo unas pocas variables de nuestro dataset son relevantes y estamos buscando un modelo más simple y explicativo, y queremos eliminar ruido.\n",
    "\n",
    "En cuanto a rendimiento, para nuestro dataset en particular, los modelos utilizados presentan un rendimiento similar. Para ver realmente las diferencias tendríamos que tener un dataset más complejo, con más variables predictoras, que nos permitiera apreciar las virtudes de los distintos modelos en cuanto a los resultados de rendimiento."
   ]
  }
 ],
 "metadata": {
  "kernelspec": {
   "display_name": "Python 3 (ipykernel)",
   "language": "python",
   "name": "python3"
  },
  "language_info": {
   "codemirror_mode": {
    "name": "ipython",
    "version": 3
   },
   "file_extension": ".py",
   "mimetype": "text/x-python",
   "name": "python",
   "nbconvert_exporter": "python",
   "pygments_lexer": "ipython3",
   "version": "3.11.5"
  }
 },
 "nbformat": 4,
 "nbformat_minor": 5
}
